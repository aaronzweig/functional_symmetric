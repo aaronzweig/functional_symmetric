{
 "cells": [
  {
   "cell_type": "code",
   "execution_count": 1,
   "metadata": {},
   "outputs": [],
   "source": [
    "import matplotlib.pyplot as plt\n",
    "import numpy as np\n",
    "from numpy.linalg import norm\n",
    "import copy\n",
    "\n",
    "import torch\n",
    "import torchvision\n",
    "import torchvision.transforms as transforms\n",
    "\n",
    "import torch.nn as nn\n",
    "import torch.nn.functional as F\n",
    "import torch.optim as optim\n",
    "\n",
    "from model import Symmetric, DeepSets, KNN, KK\n",
    "from sample import generate_data, generate_narrow_data\n",
    "from train import train\n",
    "from evaluate import generalization_error, cross_validate\n",
    "\n",
    "%matplotlib inline"
   ]
  },
  {
   "cell_type": "code",
   "execution_count": 2,
   "metadata": {},
   "outputs": [],
   "source": [
    "#For smooth neuron experiment, it's only fair to S2 if the neuron is drawn from the same random features\n",
    "\n",
    "def smooth_neuron_weight_init(model, objective):\n",
    "    if objective.__name__ == \"smooth_neuron\":\n",
    "        if model.__name__ == \"S2\" or model.__name__ == \"S3\":\n",
    "            with torch.no_grad():\n",
    "                m = objective.__network__.phi.fc.weight.shape[0]\n",
    "                model.phi.fc.weight[:m] = objective.__network__.phi.fc.weight\n",
    "                model.phi.fc.weight.div_(torch.norm(model.phi.fc.weight, dim = 1, keepdim = True))"
   ]
  },
  {
   "cell_type": "code",
   "execution_count": 4,
   "metadata": {},
   "outputs": [],
   "source": [
    "def compare_models(N_max, hidden_dim, iterations, batch_size, input_dim, objective, narrow, \n",
    "                   verbose = True, log_plot = False, scaleup = False, kernel_buff = False, squared = False):\n",
    "    \n",
    "    print(\"currently\", objective.__name__)\n",
    "    \n",
    "    bias_first = \"neuron\" in objective.__name__\n",
    "\n",
    "    c = 1 if not scaleup else 2\n",
    "    \n",
    "    k = 10 if kernel_buff else 1\n",
    "\n",
    "    f1 = Symmetric(input_dim, c * hidden_dim, hidden_dim, squared = squared)\n",
    "    f2 = KNN(input_dim, c * k * hidden_dim, hidden_dim, squared = squared)\n",
    "    f3 = KK(input_dim, c * k * hidden_dim, k * hidden_dim, squared = squared)\n",
    "\n",
    "    f1.__name__ = \"S1\"\n",
    "    f2.__name__ = \"S2\"\n",
    "    f3.__name__ = \"S3\"\n",
    "\n",
    "    models = [f1, f2, f3]\n",
    "    lambs = [0., 1e-6, 1e-4, 1e-2]\n",
    "    N_list = np.arange(2, N_max + 16)\n",
    "\n",
    "    for model in models:\n",
    "        x, y = generate_data(N_max, batch_size, input_dim, objective, narrow, bias_first)\n",
    "        \n",
    "        smooth_neuron_weight_init(model, objective)\n",
    "        \n",
    "        cv_models = cross_validate(model, x, y, iterations, lambs, verbose)\n",
    "        \n",
    "        validation_errors = np.zeros_like(lambs)\n",
    "        for i, cv_model in enumerate(cv_models):\n",
    "            validation_errors[i] = generalization_error([N_max], 1000, input_dim, cv_model,\n",
    "                                                        objective, narrow, bias_first)[0]\n",
    "        \n",
    "        i = np.argmin(validation_errors)\n",
    "        lamb = lambs[i]\n",
    "            \n",
    "        runs = 10\n",
    "        run_errors = np.zeros((runs, len(N_list)))\n",
    "        for i in range(runs):\n",
    "            x, y = generate_data(N_max, batch_size, input_dim, objective, narrow, bias_first)\n",
    "            model_copy = copy.deepcopy(model)\n",
    "            model_copy.reinit()\n",
    "            smooth_neuron_weight_init(model_copy, objective)\n",
    "            \n",
    "            train(model_copy, x, y, iterations, lamb)\n",
    "            errors = generalization_error(N_list, 1000, input_dim, model_copy, objective, narrow, bias_first)\n",
    "            run_errors[i] = np.array(errors)\n",
    "        \n",
    "        mean_error = np.mean(run_errors, axis = 0)\n",
    "        std_error = np.std(run_errors, axis = 0)\n",
    "        if verbose:\n",
    "            print(\"performance of \", model.__name__, \" on \", objective.__name__)\n",
    "            print(\"lamb =\", lamb)\n",
    "            print(mean_error)\n",
    "            print(std_error)\n",
    "            \n",
    "            \n",
    "        narrow_str = \"Narrow\" if narrow else \"Wide\"\n",
    "        scaleup_str = \"scaleup\" if scaleup else \"\"\n",
    "        save_str = model.__name__ + \"_\" + objective.__name__ + \"_\" + narrow_str + \"_\" + str(input_dim)\n",
    "        save_str += \"_\" + str(scaleup) + \"_\" + str(kernel_buff) + \"_\" + str(squared)\n",
    "        save_dir = \"saved_data_2022/\"\n",
    "            \n",
    "        np.save(save_dir + save_str + \"_mean\", mean_error)\n",
    "        np.save(save_dir + save_str + \"_std\", std_error)\n",
    "        \n",
    "        if log_plot:\n",
    "            plt.semilogy(N_list, mean_error, label = model.__name__)\n",
    "        else:\n",
    "            plt.plot(N_list, mean_error, label = model.__name__)\n",
    "        plt.fill_between(N_list, mean_error - std_error, mean_error + std_error, alpha = 0.2)\n",
    "\n",
    "    \n",
    "    plt.legend()\n",
    "    plt.ylim([1e-5, 1e2]) \n",
    "\n",
    "    plt.xlabel(\"N\")\n",
    "    plt.ylabel(\"Mean Square Error\")\n",
    "    narrow_str = \"Narrow\" if narrow else \"Wide\"\n",
    "    plt.title(narrow_str + \" generalization for \" + objective.__name__)\n",
    "    scaleup_str = \"scaleup\" if scaleup else \"\"\n",
    "#     plt.savefig(\"plots_high_dim/\" + objective.__name__ + \"_\" + narrow_str + \"_\" + str(input_dim) + scaleup_str)\n",
    "    plt.show()\n",
    "    plt.close()"
   ]
  },
  {
   "cell_type": "code",
   "execution_count": 5,
   "metadata": {},
   "outputs": [],
   "source": [
    "#For the rest of the notebook\n",
    "#input_dim = 20\n",
    "input_dim = 10\n",
    "hidden_dim = 100\n",
    "squared = True"
   ]
  },
  {
   "cell_type": "code",
   "execution_count": 6,
   "metadata": {},
   "outputs": [],
   "source": [
    "mean = lambda x: np.mean(norm(x, axis = 2), axis = 1, keepdims = True)\n",
    "\n",
    "median = lambda x: np.median(norm(x, axis = 2), axis = 1, keepdims = True)\n",
    "\n",
    "maximum = lambda x: np.max(norm(x, axis = 2), axis = 1, keepdims = True)\n",
    "\n",
    "lamb = 0.1\n",
    "softmax = lambda x: lamb * np.log(np.mean(np.exp(norm(x, axis = 2) / lamb), axis = 1, keepdims = True))\n",
    "\n",
    "second = lambda x: np.sort(norm(x, axis = 2), axis = 1)[:,-2].reshape(-1,1)"
   ]
  },
  {
   "cell_type": "code",
   "execution_count": 7,
   "metadata": {},
   "outputs": [],
   "source": [
    "meanquant = lambda x: np.mean(np.quantile(x, 0.7, axis = 2), axis = 1, keepdims = True)\n",
    "\n",
    "medianquant = lambda x: np.median(np.quantile(x, 0.7, axis = 2), axis = 1, keepdims = True)\n",
    "\n",
    "maximumquant = lambda x: np.max(np.quantile(x, 0.7, axis = 2), axis = 1, keepdims = True)\n",
    "\n",
    "lamb = 0.1\n",
    "softmaxquant = lambda x: lamb * np.log(np.mean(np.exp(np.quantile(x, 0.7, axis = 2) / lamb), axis = 1, keepdims = True))\n",
    "\n",
    "secondquant = lambda x: np.sort(np.quantile(x, 0.7, axis = 2), axis = 1)[:,-2].reshape(-1,1)"
   ]
  },
  {
   "cell_type": "code",
   "execution_count": 8,
   "metadata": {},
   "outputs": [],
   "source": [
    "from scipy.spatial import distance_matrix\n",
    "\n",
    "def potential(x):\n",
    "    energies = np.zeros((x.shape[0], 1))\n",
    "    for i in range(x.shape[0]):\n",
    "\n",
    "        r = x[i]\n",
    "        D = distance_matrix(r, r)\n",
    "\n",
    "        np.fill_diagonal(D, 1)\n",
    "        D = 1.0/D\n",
    "        \n",
    "        m = D.shape[0]\n",
    "        r,c = np.triu_indices(m,1)\n",
    "        D = D[r,c]\n",
    "        energies[i] = -np.mean(D)\n",
    "        \n",
    "    return energies"
   ]
  },
  {
   "cell_type": "code",
   "execution_count": 9,
   "metadata": {},
   "outputs": [],
   "source": [
    "def mixture(tensor, mean_1, std_1, mean_2, std_2):\n",
    "    with torch.no_grad():\n",
    "        x_1 = mean_1 + std_1 * torch.randn_like(tensor)\n",
    "        x_2 = mean_2 + std_2 * torch.randn_like(tensor)\n",
    "        \n",
    "        p = torch.bernoulli(torch.zeros_like(tensor) + 0.5)\n",
    "        tensor.data = p * x_1 + (1-p) * x_2\n"
   ]
  },
  {
   "cell_type": "code",
   "execution_count": 10,
   "metadata": {},
   "outputs": [
    {
     "name": "stdout",
     "output_type": "stream",
     "text": [
      "[-2.9413853  -0.9735007   0.         -0.6611508  -0.17372644 -0.10888965\n",
      " -3.002563   -0.89388555 -1.2175204  -3.8266776  -0.3530697  -2.9725735\n",
      " -0.36615312 -1.504894   -0.9650178 ]\n"
     ]
    }
   ],
   "source": [
    "### May need to sample several neurons to find one that isn't degenerate on the domain\n",
    "\n",
    "torch.manual_seed(50)\n",
    "np.random.seed(50)\n",
    "\n",
    "teacher = Symmetric(input_dim, 1, 1, squared = squared)\n",
    "# torch.nn.init.uniform_(teacher.phi.fc.weight, a = -5.0, b = 2.0)\n",
    "mixture(teacher.phi.fc.weight, 1.0, 0.5, -1.0, 0.5)\n",
    "teacher.eval()\n",
    "\n",
    "def neuron(x):\n",
    "    x = torch.from_numpy(x).float()\n",
    "    y = teacher(x)\n",
    "    return y.data.numpy().reshape(-1, 1)\n",
    "\n",
    "neuron.__network__ = teacher\n",
    "\n",
    "x, y = generate_narrow_data(3, 15, input_dim, neuron, bias_first = True)\n",
    "print(y.data.numpy().flatten())"
   ]
  },
  {
   "cell_type": "code",
   "execution_count": 11,
   "metadata": {},
   "outputs": [
    {
     "name": "stdout",
     "output_type": "stream",
     "text": [
      "[-0.02960487  0.          0.         -0.02094294 -0.03513904 -0.02753521\n",
      " -0.02093345 -0.00561744  0.         -0.03878238 -0.00878886 -0.00971054\n",
      " -0.00958526 -0.0464745  -0.00434159]\n"
     ]
    }
   ],
   "source": [
    "### May need to sample several neurons to find one that isn't degenerate on the domain\n",
    "\n",
    "smooth_teacher = Symmetric(input_dim, hidden_dim, 1, squared = squared)\n",
    "# torch.nn.init.uniform_(smooth_teacher.rho.fc1.weight,a = -0.3, b = 0.3)\n",
    "mixture(teacher.rho.fc1.weight, 1.0, 0.5, -1.0, 0.5)\n",
    "smooth_teacher.eval()\n",
    "\n",
    "def smooth_neuron(x):\n",
    "    x = torch.from_numpy(x).float()\n",
    "    y = smooth_teacher(x)\n",
    "    return y.data.numpy().reshape(-1, 1)\n",
    "\n",
    "smooth_neuron.__network__ = smooth_teacher\n",
    "\n",
    "x, y = generate_narrow_data(3, 15, input_dim, smooth_neuron, bias_first = True)\n",
    "print(y.data.numpy().flatten())"
   ]
  },
  {
   "cell_type": "code",
   "execution_count": 12,
   "metadata": {},
   "outputs": [],
   "source": [
    "neuron.__name__ = \"neuron\"\n",
    "smooth_neuron.__name__ = \"smooth_neuron\"\n",
    "maximum.__name__ = \"maximum\"\n",
    "softmax.__name__ = \"softmax\"\n",
    "median.__name__ = \"median\"\n",
    "mean.__name__ = \"mean\"\n",
    "second.__name__ = \"second\"\n",
    "potential.__name__ = \"potential\"\n",
    "\n",
    "\n",
    "maximumquant.__name__ = \"maximumquant\"\n",
    "softmaxquant.__name__ = \"softmaxquant\"\n",
    "medianquant.__name__ = \"medianquant\"\n",
    "meanquant.__name__ = \"meanquant\"\n",
    "secondquant.__name__ = \"secondquant\""
   ]
  },
  {
   "cell_type": "code",
   "execution_count": 13,
   "metadata": {},
   "outputs": [],
   "source": [
    "###############################################"
   ]
  },
  {
   "cell_type": "code",
   "execution_count": 14,
   "metadata": {},
   "outputs": [],
   "source": [
    "#Run to generate plots in Figure 1:\n",
    "\n",
    "N_max = 4\n",
    "\n",
    "iterations = 5000\n",
    "batch_size = 100"
   ]
  },
  {
   "cell_type": "code",
   "execution_count": null,
   "metadata": {},
   "outputs": [
    {
     "name": "stdout",
     "output_type": "stream",
     "text": [
      "currently smooth_neuron\n",
      "check for overfitting power of S1\n",
      "lowest loss: 9.612970300944154e-17\n",
      "performance of  S1  on  smooth_neuron\n",
      "lamb = 0.01\n",
      "[0.01081587 0.00713642 0.00546887 0.00435628 0.00352404 0.00320706\n",
      " 0.00277186 0.00251264 0.00223056 0.00209886 0.00192589 0.00177526\n",
      " 0.00165743 0.00154745 0.00142911 0.00141105 0.00133381 0.00127029]\n",
      "[0.00150676 0.00078184 0.00076287 0.00050617 0.00047147 0.0003789\n",
      " 0.00041091 0.00041641 0.00031534 0.00028684 0.0002789  0.00023281\n",
      " 0.00023231 0.00019255 0.00016907 0.0001872  0.00020287 0.000203  ]\n",
      "check for overfitting power of S2\n",
      "lowest loss: 9.18471044281238e-17\n",
      "performance of  S2  on  smooth_neuron\n",
      "lamb = 0.0001\n",
      "[0.01947363 0.01155426 0.00871619 0.00674873 0.00587987 0.00527847\n",
      " 0.00456793 0.00436954 0.00421528 0.00392783 0.00381925 0.00364656\n",
      " 0.0035625  0.00338306 0.00336707 0.00327392 0.00322005 0.00304673]\n",
      "[0.00565666 0.0030846  0.00259105 0.00232559 0.00173753 0.00188981\n",
      " 0.0016613  0.00184011 0.00181194 0.00185218 0.001714   0.00194106\n",
      " 0.00193422 0.00180102 0.00186212 0.00196182 0.0018824  0.00180972]\n",
      "check for overfitting power of S3\n",
      "lowest loss: 1.3183898417423734e-15\n",
      "performance of  S3  on  smooth_neuron\n",
      "lamb = 1e-06\n",
      "[0.20135021 0.12815301 0.09370556 0.07280448 0.06345557 0.05516849\n",
      " 0.04855334 0.04371506 0.04063513 0.03744251 0.03478005 0.03328274\n",
      " 0.03127562 0.02934774 0.0281875  0.02705447 0.02600535 0.02554215]\n",
      "[0.02994462 0.01775247 0.01106032 0.00944158 0.00820709 0.01042424\n",
      " 0.00937718 0.00870565 0.00884118 0.00943929 0.0091665  0.00942245\n",
      " 0.01037463 0.00910997 0.00855651 0.00952352 0.00999526 0.01060075]\n"
     ]
    },
    {
     "data": {
      "image/png": "[encoded data removed]",
      "text/plain": [
       "<Figure size 432x288 with 1 Axes>"
      ]
     },
     "metadata": {
      "needs_background": "light"
     },
     "output_type": "display_data"
    },
    {
     "name": "stdout",
     "output_type": "stream",
     "text": [
      "currently neuron\n",
      "check for overfitting power of S1\n",
      "lowest loss: 7.972102145092919e-11\n",
      "performance of  S1  on  neuron\n",
      "lamb = 0.0\n",
      "[8.66942506 5.06700268 3.57265766 2.74255137 2.30477405 1.86980277\n",
      " 1.66567918 1.56401629 1.3419924  1.23887374 1.13316765 1.0663505\n",
      " 1.01715711 0.93518105 0.88659023 0.83246323 0.79293724 0.77108505]\n",
      "[4.3262551  2.24644166 1.51136572 0.9242991  0.88384676 0.64503293\n",
      " 0.59709131 0.55306166 0.4413489  0.41524566 0.37033962 0.35654493\n",
      " 0.36144307 0.30391489 0.26573907 0.26962132 0.27931663 0.28104556]\n",
      "check for overfitting power of S2\n",
      "lowest loss: 4.375689968583174e-06\n"
     ]
    }
   ],
   "source": [
    "compare_models(N_max, hidden_dim, iterations, batch_size, input_dim, smooth_neuron, narrow = False, log_plot = True,\n",
    "              kernel_buff = True, squared = squared)\n",
    "compare_models(N_max, hidden_dim, iterations, batch_size, input_dim, neuron, narrow = False, log_plot = True,\n",
    "              kernel_buff = True, squared = squared)\n",
    "\n",
    "compare_models(N_max, hidden_dim, iterations, batch_size, input_dim, smooth_neuron, narrow = True, log_plot = True,\n",
    "              kernel_buff = True, squared = squared)\n",
    "compare_models(N_max, hidden_dim, iterations, batch_size, input_dim, neuron, narrow = True, log_plot = True,\n",
    "              kernel_buff = True, squared = squared)"
   ]
  },
  {
   "cell_type": "code",
   "execution_count": null,
   "metadata": {},
   "outputs": [],
   "source": [
    "compare_models(N_max, hidden_dim, iterations, batch_size, input_dim, potential, narrow = False, log_plot = True)"
   ]
  },
  {
   "cell_type": "code",
   "execution_count": null,
   "metadata": {
    "scrolled": true
   },
   "outputs": [],
   "source": [
    "compare_models(N_max, hidden_dim, iterations, batch_size, input_dim, mean, narrow = False, log_plot = True,\n",
    "              kernel_buff = True, squared = squared)\n",
    "# compare_models(N_max, hidden_dim, iterations, batch_size, input_dim , mean, narrow = True, log_plot = True)\n",
    "\n",
    "compare_models(N_max, hidden_dim, iterations, batch_size, input_dim, median, narrow = False, log_plot = True,\n",
    "              kernel_buff = True, squared = squared)\n",
    "# compare_models(N_max, hidden_dim, iterations, batch_size, input_dim , median, narrow = True, log_plot = True)\n",
    "\n",
    "compare_models(N_max, hidden_dim, iterations, batch_size, input_dim, maximum, narrow = False, log_plot = True,\n",
    "              kernel_buff = True, squared = squared)\n",
    "# compare_models(N_max, hidden_dim, iterations, batch_size, input_dim , maximum, narrow = True, log_plot = True)\n",
    "\n",
    "compare_models(N_max, hidden_dim, iterations, batch_size, input_dim, softmax, narrow = False, log_plot = True,\n",
    "              kernel_buff = True, squared = squared)\n",
    "# compare_models(N_max, hidden_dim, iterations, batch_size, input_dim , softmax, narrow = True, log_plot = True)\n",
    "\n",
    "compare_models(N_max, hidden_dim, iterations, batch_size, input_dim, second, narrow = False, log_plot = True,\n",
    "              kernel_buff = True, squared = squared)\n",
    "# compare_models(N_max, hidden_dim, iterations, batch_size, input_dim , second, narrow = True, log_plot = True)\n",
    "\n",
    "compare_models(N_max, hidden_dim, iterations, batch_size, input_dim, neuron, narrow = False, log_plot = True,\n",
    "              kernel_buff = True, squared = squared)\n",
    "# compare_models(N_max, hidden_dim, iterations, batch_size, input_dim , neuron, narrow = True, log_plot = True)\n",
    "\n",
    "compare_models(N_max, hidden_dim, iterations, batch_size, input_dim, smooth_neuron, narrow = False, log_plot = True,\n",
    "              kernel_buff = True, squared = squared)\n",
    "# compare_models(N_max, hidden_dim, iterations, batch_size, input_dim , smooth_neuron, narrow = True, log_plot = True)\n",
    "\n",
    "\n"
   ]
  },
  {
   "cell_type": "code",
   "execution_count": null,
   "metadata": {},
   "outputs": [],
   "source": [
    "compare_models(N_max, hidden_dim, iterations, batch_size, input_dim , neuron, narrow = True, log_plot = True, scaleup = True)\n",
    "# compare_models(N_max, hidden_dim, iterations, batch_size, input_dim , smooth_neuron, narrow = True, log_plot = True, scaleup = True)\n",
    "\n",
    "compare_models(N_max, hidden_dim, iterations, batch_size, input_dim , neuron, narrow = True, log_plot = True, scaleup = False)\n",
    "# compare_models(N_max, hidden_dim, iterations, batch_size, input_dim , smooth_neuron, narrow = True, log_plot = True, scaleup = False)\n",
    "\n"
   ]
  },
  {
   "cell_type": "code",
   "execution_count": null,
   "metadata": {},
   "outputs": [],
   "source": [
    "###############################################"
   ]
  },
  {
   "cell_type": "code",
   "execution_count": null,
   "metadata": {},
   "outputs": [],
   "source": [
    "objective = neuron\n",
    "narrow = False\n",
    "bias_first = \"neuron\" in objective.__name__\n",
    "\n",
    "kernel_buff = True\n",
    "k = 10 if kernel_buff else 1\n",
    "\n",
    "x, y = generate_data(N_max, batch_size, input_dim, objective, narrow, bias_first)\n",
    "\n",
    "for i in range(5):\n",
    "                \n",
    "    model = Symmetric(input_dim, hidden_dim, hidden_dim, squared = squared)\n",
    "    model.train()\n",
    "    losses = train(model, x, y, iterations, lamb = 0.00, lr=0.0005)\n",
    "    model.eval()\n",
    "    print(losses[::int(iterations/10)])\n",
    "    print(\"min\", np.min(np.array(losses)))\n",
    "    print(\"f1\", generalization_error([4], 5000, input_dim, model, objective, narrow, bias_first))\n",
    "                \n",
    "    model = KNN(input_dim, k * hidden_dim, hidden_dim, squared = squared)\n",
    "    model.train()\n",
    "    losses = train(model, x, y, iterations, lamb = 0.00, lr=0.0005)\n",
    "    model.eval()\n",
    "    print(losses[::int(iterations/10)])\n",
    "    print(\"min\", np.min(np.array(losses)))\n",
    "    print(\"f2\", generalization_error([4], 5000, input_dim, model, objective, narrow, bias_first))\n",
    "    \n",
    "    model = KK(input_dim, k * hidden_dim, k * hidden_dim, squared = squared)\n",
    "    model.train()\n",
    "    losses = train(model, x, y, iterations, lamb = 0.00, lr=0.0005)\n",
    "    model.eval()\n",
    "    print(losses[::int(iterations/10)])\n",
    "    print(\"min\", np.min(np.array(losses)))\n",
    "    print(\"f3\", generalization_error([4], 5000, input_dim, model, objective, narrow, bias_first))"
   ]
  },
  {
   "cell_type": "code",
   "execution_count": null,
   "metadata": {},
   "outputs": [],
   "source": [
    "#####################################"
   ]
  },
  {
   "cell_type": "code",
   "execution_count": null,
   "metadata": {},
   "outputs": [],
   "source": [
    "def plot_from_memory(yrange, input_dim, objectives, narrows, scaleup):\n",
    "    models = [\"S1\", \"S2\", \"S3\"]\n",
    "    scaleup_str = \"scaleup\" if scaleup else \"\"\n",
    "    N_list = np.arange(2, 4 + 16)\n",
    "    \n",
    "    for objective in objectives:\n",
    "        for narrow in narrows:\n",
    "            \n",
    "            for model in models:\n",
    "    \n",
    "                save_str = model + \"_\" + objective + \"_\" + narrow + \"_\" + str(input_dim) + scaleup_str\n",
    "                save_dir = \"saved_data/\"\n",
    "        \n",
    "                mean_error = np.load(save_dir + save_str + \"_mean\" + \".npy\")\n",
    "                std_error = np.load(save_dir + save_str + \"_std\" + \".npy\")\n",
    "\n",
    "                plt.semilogy(N_list, mean_error, label = model)\n",
    "                plt.fill_between(N_list, mean_error - std_error, mean_error + std_error, alpha = 0.2)\n",
    "\n",
    "\n",
    "            plt.legend()\n",
    "            plt.ylim(yrange) \n",
    "\n",
    "            plt.xlabel(\"N\")\n",
    "            plt.ylabel(\"Mean Square Error\")\n",
    "            narrow_str = narrow\n",
    "            plt.title(narrow_str + \" generalization for \" + objective)\n",
    "            plt.savefig(\"plots_high_dim/\" + objective + \"_\" + narrow_str + \"_\" + str(input_dim) + scaleup_str)\n",
    "            plt.show()\n",
    "            plt.close()"
   ]
  },
  {
   "cell_type": "code",
   "execution_count": null,
   "metadata": {},
   "outputs": [],
   "source": [
    "local_input_dim = 20\n",
    "\n",
    "# plot_from_memory([1e-4, 1e1], local_input_dim, [\"mean\", \"median\", \"maximum\", \"softmax\", \"second\"], [\"Narrow\", \"Wide\"], False)\n",
    "\n",
    "plot_from_memory([1e-4, 1e1], local_input_dim, [\"neuron\"], [\"Narrow\", \"Wide\"], False)\n",
    "plot_from_memory([1e-4, 1e1], local_input_dim, [\"smooth_neuron\"], [\"Narrow\", \"Wide\"], False)\n",
    "\n",
    "plot_from_memory([1e-4, 1e1], local_input_dim, [\"neuron\"], [\"Narrow\"], True)\n",
    "plot_from_memory([1e-4, 1e1], local_input_dim, [\"neuron\"], [\"Narrow\"], False)\n",
    "\n",
    "plot_from_memory([1e-4, 1e1], local_input_dim, [\"smooth_neuron\"], [\"Narrow\"], True)\n",
    "plot_from_memory([1e-4, 1e1], local_input_dim, [\"smooth_neuron\"], [\"Narrow\"], False)"
   ]
  },
  {
   "cell_type": "code",
   "execution_count": null,
   "metadata": {},
   "outputs": [],
   "source": []
  }
 ],
 "metadata": {
  "kernelspec": {
   "display_name": "Python [conda env:prime] *",
   "language": "python",
   "name": "conda-env-prime-py"
  },
  "language_info": {
   "codemirror_mode": {
    "name": "ipython",
    "version": 3
   },
   "file_extension": ".py",
   "mimetype": "text/x-python",
   "name": "python",
   "nbconvert_exporter": "python",
   "pygments_lexer": "ipython3",
   "version": "3.7.7"
  }
 },
 "nbformat": 4,
 "nbformat_minor": 4
}
