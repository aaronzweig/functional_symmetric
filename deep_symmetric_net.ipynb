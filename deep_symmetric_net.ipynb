{
 "cells": [
  {
   "cell_type": "code",
   "execution_count": 1,
   "metadata": {},
   "outputs": [],
   "source": [
    "import matplotlib.pyplot as plt\n",
    "import numpy as np\n",
    "from numpy.linalg import norm\n",
    "import copy\n",
    "\n",
    "import torch\n",
    "import torchvision\n",
    "import torchvision.transforms as transforms\n",
    "\n",
    "import torch.nn as nn\n",
    "import torch.nn.functional as F\n",
    "import torch.optim as optim\n",
    "\n",
    "from model import Symmetric, DeepSets, KNN, KK\n",
    "from sample import generate_data, generate_narrow_data\n",
    "from train import train\n",
    "from evaluate import generalization_error, cross_validate\n",
    "\n",
    "%matplotlib inline"
   ]
  },
  {
   "cell_type": "code",
   "execution_count": 2,
   "metadata": {},
   "outputs": [],
   "source": [
    "####NOTE: you've edited the compare_models function here, and the nature of the objectives here,\n",
    "#### and the data distribution in sample.py.  Be aware of this when you update to github again"
   ]
  },
  {
   "cell_type": "code",
   "execution_count": 3,
   "metadata": {},
   "outputs": [],
   "source": [
    "#For smooth neuron experiment, it's only fair to S2 if the neuron is drawn from the same random features\n",
    "\n",
    "def smooth_neuron_weight_init(model, objective):\n",
    "    if objective.__name__ == \"smooth_neuron\":\n",
    "        with torch.no_grad():\n",
    "            model.phi.fc.weight = objective.__network__.phi.fc.weight\n",
    "            model.phi.fc.weight.requires_grad = False        \n",
    "            model.phi.fc.weight.div_(torch.norm(model.phi.fc.weight, dim = 1, keepdim = True))"
   ]
  },
  {
   "cell_type": "code",
   "execution_count": 19,
   "metadata": {},
   "outputs": [],
   "source": [
    "def compare_models(N_max, hidden_dim, iterations, batch_size, input_dim, objective, narrow, verbose = True, log_plot = False, scaleup = False):\n",
    "    print(\"currently\", objective.__name__)\n",
    "    \n",
    "    bias_first = \"neuron\" in objective.__name__\n",
    "\n",
    "    c = 1 if not scaleup else 2\n",
    "\n",
    "    f1 = Symmetric(input_dim, c * hidden_dim, hidden_dim)\n",
    "    f2 = KNN(input_dim, c * hidden_dim, hidden_dim)\n",
    "    f3 = KK(input_dim, c * hidden_dim, hidden_dim)\n",
    "\n",
    "    f1.__name__ = \"S1\"\n",
    "    f2.__name__ = \"S2\"\n",
    "    f3.__name__ = \"S3\"\n",
    "\n",
    "    models = [f1, f2, f3]\n",
    "    lambs = [0., 1e-6, 1e-4, 1e-2]\n",
    "    N_list = np.arange(2, N_max + 16)\n",
    "\n",
    "    for model in models:\n",
    "        x, y = generate_data(N_max, batch_size, input_dim, objective, narrow, bias_first)\n",
    "        \n",
    "        smooth_neuron_weight_init(model, objective)\n",
    "        \n",
    "        cv_models = cross_validate(model, x, y, iterations, lambs, verbose)\n",
    "        \n",
    "        validation_errors = np.zeros_like(lambs)\n",
    "        for i, cv_model in enumerate(cv_models):\n",
    "            validation_errors[i] = generalization_error([N_max], 1000, input_dim, cv_model, objective, narrow, bias_first)[0]\n",
    "        \n",
    "        i = np.argmin(validation_errors)\n",
    "        lamb = lambs[i]\n",
    "            \n",
    "        runs = 10\n",
    "        run_errors = np.zeros((runs, len(N_list)))\n",
    "        for i in range(runs):\n",
    "            x, y = generate_data(N_max, batch_size, input_dim, objective, narrow, bias_first)\n",
    "            model_copy = copy.deepcopy(model)\n",
    "            model_copy.reinit()\n",
    "            smooth_neuron_weight_init(model_copy, objective)\n",
    "            \n",
    "            train(model_copy, x, y, iterations, lamb)\n",
    "            errors = generalization_error(N_list, 1000, input_dim, model_copy, objective, narrow, bias_first)\n",
    "            run_errors[i] = np.array(errors)\n",
    "        \n",
    "        mean_error = np.mean(run_errors, axis = 0)\n",
    "        std_error = np.std(run_errors, axis = 0)\n",
    "        if verbose:\n",
    "            print(\"performance of \", model.__name__, \" on \", objective.__name__)\n",
    "            print(\"lamb =\", lamb)\n",
    "            print(mean_error)\n",
    "            print(std_error)\n",
    "            \n",
    "            \n",
    "        narrow_str = \"Narrow\" if narrow else \"Wide\"\n",
    "        scaleup_str = \"scaleup\" if scaleup else \"\"\n",
    "        save_str = model.__name__ + \"_\" + objective.__name__ + \"_\" + narrow_str + \"_\" + str(input_dim) + scaleup_str\n",
    "        save_dir = \"saved_data/\"\n",
    "            \n",
    "        np.save(save_dir + save_str + \"_mean\", mean_error)\n",
    "        np.save(save_dir + save_str + \"_std\", std_error)\n",
    "        \n",
    "        if log_plot:\n",
    "            plt.semilogy(N_list, mean_error, label = model.__name__)\n",
    "        else:\n",
    "            plt.plot(N_list, mean_error, label = model.__name__)\n",
    "        plt.fill_between(N_list, mean_error - std_error, mean_error + std_error, alpha = 0.2)\n",
    "\n",
    "    \n",
    "    plt.legend()\n",
    "    plt.ylim([1e-5, 1e-1]) \n",
    "\n",
    "    plt.xlabel(\"N\")\n",
    "    plt.ylabel(\"Mean Square Error\")\n",
    "    narrow_str = \"Narrow\" if narrow else \"Wide\"\n",
    "    plt.title(narrow_str + \" generalization for \" + objective.__name__)\n",
    "    scaleup_str = \"scaleup\" if scaleup else \"\"\n",
    "#     plt.savefig(\"plots_high_dim/\" + objective.__name__ + \"_\" + narrow_str + \"_\" + str(input_dim) + scaleup_str)\n",
    "    plt.show()\n",
    "    plt.close()"
   ]
  },
  {
   "cell_type": "code",
   "execution_count": 20,
   "metadata": {},
   "outputs": [],
   "source": [
    "#For the rest of the notebook\n",
    "input_dim = 10\n",
    "hidden_dim = 100"
   ]
  },
  {
   "cell_type": "code",
   "execution_count": 21,
   "metadata": {},
   "outputs": [],
   "source": [
    "mean = lambda x: np.mean(norm(x, axis = 2), axis = 1, keepdims = True)\n",
    "\n",
    "median = lambda x: np.median(norm(x, axis = 2), axis = 1, keepdims = True)\n",
    "\n",
    "maximum = lambda x: np.max(norm(x, axis = 2), axis = 1, keepdims = True)\n",
    "\n",
    "lamb = 0.1\n",
    "softmax = lambda x: lamb * np.log(np.mean(np.exp(norm(x, axis = 2) / lamb), axis = 1, keepdims = True))\n",
    "\n",
    "second = lambda x: np.sort(norm(x, axis = 2), axis = 1)[:,-2].reshape(-1,1)"
   ]
  },
  {
   "cell_type": "code",
   "execution_count": 8,
   "metadata": {},
   "outputs": [
    {
     "name": "stdout",
     "output_type": "stream",
     "text": [
      "[-1.2489308  -0.55221474 -0.255867    0.         -0.27635792 -0.5203377\n",
      " -0.9401208   0.          0.          0.          0.          0.\n",
      " -1.0905515  -1.2536428   0.        ]\n"
     ]
    }
   ],
   "source": [
    "### May need to sample several neurons to find one that isn't degenerate on the domain\n",
    "\n",
    "\n",
    "teacher = Symmetric(input_dim, hidden_dim, 1)\n",
    "torch.nn.init.uniform_(teacher.phi.fc.weight, a = -1.0, b = 1.0)\n",
    "teacher.eval()\n",
    "\n",
    "def neuron(x):\n",
    "    x = torch.from_numpy(x).float()\n",
    "    y = teacher(x)\n",
    "    return y.data.numpy().reshape(-1, 1)\n",
    "\n",
    "neuron.__network__ = teacher\n",
    "\n",
    "x, y = generate_narrow_data(3, 15, input_dim, neuron, bias_first = True)\n",
    "print(y.data.numpy().flatten())"
   ]
  },
  {
   "cell_type": "code",
   "execution_count": 13,
   "metadata": {},
   "outputs": [
    {
     "name": "stdout",
     "output_type": "stream",
     "text": [
      "[1.0168916  0.         0.         0.         0.         0.\n",
      " 0.303104   0.         0.         0.         0.         0.\n",
      " 0.24400099 0.1610713  0.        ]\n"
     ]
    }
   ],
   "source": [
    "### May need to sample several neurons to find one that isn't degenerate on the domain\n",
    "\n",
    "smooth_teacher = Symmetric(input_dim, hidden_dim, 1)\n",
    "torch.nn.init.uniform_(smooth_teacher.rho.fc1.weight,a = -1.0, b = 1.0)  #####NOTE WE CHANGED THIS DISTRIBUTION\n",
    "smooth_teacher.eval()\n",
    "\n",
    "def smooth_neuron(x):\n",
    "    x = torch.from_numpy(x).float()\n",
    "    y = smooth_teacher(x)\n",
    "    return y.data.numpy().reshape(-1, 1)\n",
    "\n",
    "smooth_neuron.__network__ = smooth_teacher\n",
    "\n",
    "x, y = generate_narrow_data(3, 15, input_dim, smooth_neuron, bias_first = True)\n",
    "print(y.data.numpy().flatten())"
   ]
  },
  {
   "cell_type": "code",
   "execution_count": 14,
   "metadata": {},
   "outputs": [],
   "source": [
    "neuron.__name__ = \"neuron\"\n",
    "smooth_neuron.__name__ = \"smooth_neuron\"\n",
    "maximum.__name__ = \"maximum\"\n",
    "softmax.__name__ = \"softmax\"\n",
    "median.__name__ = \"median\"\n",
    "mean.__name__ = \"mean\"\n",
    "second.__name__ = \"second\""
   ]
  },
  {
   "cell_type": "code",
   "execution_count": 15,
   "metadata": {},
   "outputs": [],
   "source": [
    "###############################################"
   ]
  },
  {
   "cell_type": "code",
   "execution_count": 16,
   "metadata": {},
   "outputs": [],
   "source": [
    "#Run to generate plots in Figure 1:\n",
    "\n",
    "N_max = 4\n",
    "\n",
    "iterations = 5000\n",
    "batch_size = 100"
   ]
  },
  {
   "cell_type": "code",
   "execution_count": 22,
   "metadata": {},
   "outputs": [
    {
     "name": "stdout",
     "output_type": "stream",
     "text": [
      "currently neuron\n",
      "check for overfitting power of S1\n",
      "lowest loss: 2.3592239935029067e-17\n",
      "performance of  S1  on  neuron\n",
      "lamb = 0.0\n",
      "[0.0313372  0.02320848 0.01844053 0.01463218 0.01271227 0.01165044\n",
      " 0.01048303 0.00949042 0.00894942 0.00824726 0.00771566 0.00744136\n",
      " 0.00706604 0.00676031 0.00652702 0.00596006 0.0058357  0.00575356]\n",
      "[0.00667331 0.00542372 0.00438259 0.00330617 0.00305607 0.00262148\n",
      " 0.00232525 0.00182734 0.00203354 0.00181307 0.0016339  0.00166762\n",
      " 0.00147218 0.0016224  0.00123551 0.00122315 0.00121128 0.00135084]\n",
      "check for overfitting power of S2\n",
      "lowest loss: 1.215961498157725e-10\n",
      "performance of  S2  on  neuron\n",
      "lamb = 1e-06\n",
      "[0.04932982 0.03334675 0.02616069 0.02229099 0.02005945 0.01761758\n",
      " 0.01647382 0.01514012 0.01413682 0.01359442 0.01268803 0.01224982\n",
      " 0.01187669 0.01136412 0.01088754 0.01066128 0.01036528 0.01007526]\n",
      "[0.00678627 0.00407967 0.00316965 0.00255801 0.0024407  0.00221693\n",
      " 0.00213612 0.00226593 0.00226384 0.0024651  0.00247699 0.00220223\n",
      " 0.00290223 0.00244582 0.00227193 0.00282988 0.00265543 0.00278302]\n",
      "check for overfitting power of S3\n",
      "lowest loss: 0.0005481536500155926\n",
      "performance of  S3  on  neuron\n",
      "lamb = 0.01\n",
      "[0.10365924 0.06851793 0.05250572 0.04238743 0.03764844 0.03197451\n",
      " 0.02873516 0.02618282 0.02433494 0.02230375 0.02065869 0.01958406\n",
      " 0.01838055 0.01801469 0.01694155 0.01606768 0.01581335 0.01531283]\n",
      "[0.01733155 0.01022985 0.00926802 0.00645426 0.00646354 0.00447495\n",
      " 0.00509663 0.00488523 0.0044538  0.00461801 0.00373642 0.00392623\n",
      " 0.00381475 0.00401758 0.00427289 0.00357691 0.00442261 0.00391449]\n"
     ]
    },
    {
     "data": {
      "image/png": "[encoded data removed]",
      "text/plain": [
       "<Figure size 432x288 with 1 Axes>"
      ]
     },
     "metadata": {
      "needs_background": "light"
     },
     "output_type": "display_data"
    }
   ],
   "source": [
    "compare_models(N_max, hidden_dim, iterations, batch_size, input_dim , neuron, narrow = True, log_plot = True)"
   ]
  },
  {
   "cell_type": "code",
   "execution_count": 18,
   "metadata": {},
   "outputs": [
    {
     "name": "stdout",
     "output_type": "stream",
     "text": [
      "currently smooth_neuron\n",
      "check for overfitting power of S1\n",
      "lowest loss: 2.0652880447502575e-13\n",
      "performance of  S1  on  smooth_neuron\n",
      "lamb = 1e-06\n",
      "[0.0776254  0.04368634 0.02925095 0.02157833 0.01402527 0.01101034\n",
      " 0.00825315 0.0058093  0.00467506 0.00382195 0.00333082 0.00276068\n",
      " 0.00225167 0.00193199 0.00177994 0.00140179 0.00117096 0.00100774]\n",
      "[0.01093138 0.00785907 0.00440155 0.00463918 0.00295685 0.00177985\n",
      " 0.0013454  0.00069721 0.00082838 0.00045119 0.00065987 0.0003792\n",
      " 0.00037405 0.00061871 0.00045755 0.00025166 0.00037903 0.00022086]\n",
      "check for overfitting power of S2\n",
      "lowest loss: 1.286933724031769e-07\n",
      "performance of  S2  on  smooth_neuron\n",
      "lamb = 0.0001\n",
      "[0.08043935 0.04519271 0.02743737 0.02016411 0.01369115 0.01031903\n",
      " 0.00750569 0.00571391 0.00471678 0.0042519  0.00299761 0.00251542\n",
      " 0.00216963 0.00186806 0.0015398  0.00123981 0.00109652 0.00099081]\n",
      "[0.01828645 0.0104201  0.00610021 0.00320958 0.00327255 0.00186343\n",
      " 0.00170806 0.00099897 0.00130151 0.0006975  0.00065135 0.00038293\n",
      " 0.00043564 0.00039395 0.00040101 0.00032206 0.00031119 0.0003261 ]\n",
      "check for overfitting power of S3\n",
      "lowest loss: 0.001259722514078021\n",
      "performance of  S3  on  smooth_neuron\n",
      "lamb = 0.01\n",
      "[0.15912381 0.08870514 0.06182361 0.04868353 0.03964506 0.0337047\n",
      " 0.03062333 0.02818942 0.02624787 0.02437792 0.02381527 0.02235538\n",
      " 0.02241841 0.02138882 0.02089886 0.02017894 0.02003334 0.01960827]\n",
      "[0.03784553 0.02980454 0.02552553 0.02197294 0.01999704 0.01712578\n",
      " 0.0149749  0.01484273 0.01362843 0.01387452 0.01327538 0.01235019\n",
      " 0.01340129 0.01228269 0.01264152 0.01217747 0.01255351 0.01161944]\n"
     ]
    },
    {
     "data": {
      "image/png": "[encoded data removed]",
      "text/plain": [
       "<Figure size 432x288 with 1 Axes>"
      ]
     },
     "metadata": {
      "needs_background": "light"
     },
     "output_type": "display_data"
    }
   ],
   "source": [
    "compare_models(N_max, hidden_dim, iterations, batch_size, input_dim , smooth_neuron, narrow = True, log_plot = True)"
   ]
  },
  {
   "cell_type": "code",
   "execution_count": null,
   "metadata": {},
   "outputs": [],
   "source": [
    "# compare_models(N_max, hidden_dim, iterations, batch_size, input_dim, mean, narrow = False, log_plot = True)\n",
    "# compare_models(N_max, hidden_dim, iterations, batch_size, input_dim , mean, narrow = True, log_plot = True)\n",
    "\n",
    "# compare_models(N_max, hidden_dim, iterations, batch_size, input_dim, median, narrow = False, log_plot = True)\n",
    "# compare_models(N_max, hidden_dim, iterations, batch_size, input_dim , median, narrow = True, log_plot = True)\n",
    "\n",
    "# compare_models(N_max, hidden_dim, iterations, batch_size, input_dim, maximum, narrow = False, log_plot = True)\n",
    "# compare_models(N_max, hidden_dim, iterations, batch_size, input_dim , maximum, narrow = True, log_plot = True)\n",
    "\n",
    "# compare_models(N_max, hidden_dim, iterations, batch_size, input_dim, softmax, narrow = False, log_plot = True)\n",
    "# compare_models(N_max, hidden_dim, iterations, batch_size, input_dim , softmax, narrow = True, log_plot = True)\n",
    "\n",
    "# compare_models(N_max, hidden_dim, iterations, batch_size, input_dim, second, narrow = False, log_plot = True)\n",
    "# compare_models(N_max, hidden_dim, iterations, batch_size, input_dim , second, narrow = True, log_plot = True)\n",
    "\n",
    "# compare_models(N_max, hidden_dim, iterations, batch_size, input_dim, neuron, narrow = False, log_plot = True)\n",
    "# compare_models(N_max, hidden_dim, iterations, batch_size, input_dim , neuron, narrow = True, log_plot = True)\n",
    "\n",
    "# compare_models(N_max, hidden_dim, iterations, batch_size, input_dim, smooth_neuron, narrow = False, log_plot = True)\n",
    "# compare_models(N_max, hidden_dim, iterations, batch_size, input_dim , smooth_neuron, narrow = True, log_plot = True)"
   ]
  },
  {
   "cell_type": "code",
   "execution_count": null,
   "metadata": {},
   "outputs": [],
   "source": [
    "# compare_models(N_max, hidden_dim, iterations, batch_size, input_dim , neuron, narrow = True, log_plot = True, scaleup = True)\n",
    "# compare_models(N_max, hidden_dim, iterations, batch_size, input_dim , smooth_neuron, narrow = True, log_plot = True, scaleup = True)\n",
    "\n",
    "# compare_models(N_max, hidden_dim, iterations, batch_size, input_dim , neuron, narrow = True, log_plot = True, scaleup = False)\n",
    "# compare_models(N_max, hidden_dim, iterations, batch_size, input_dim , smooth_neuron, narrow = True, log_plot = True, scaleup = False)"
   ]
  },
  {
   "cell_type": "code",
   "execution_count": null,
   "metadata": {},
   "outputs": [],
   "source": [
    "###############################################"
   ]
  }
 ],
 "metadata": {
  "kernelspec": {
   "display_name": "Python 3",
   "language": "python",
   "name": "python3"
  },
  "language_info": {
   "codemirror_mode": {
    "name": "ipython",
    "version": 3
   },
   "file_extension": ".py",
   "mimetype": "text/x-python",
   "name": "python",
   "nbconvert_exporter": "python",
   "pygments_lexer": "ipython3",
   "version": "3.7.7"
  }
 },
 "nbformat": 4,
 "nbformat_minor": 2
}
