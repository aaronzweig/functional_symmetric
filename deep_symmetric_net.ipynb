{
 "cells": [
  {
   "cell_type": "code",
   "execution_count": 6,
   "metadata": {},
   "outputs": [],
   "source": [
    "import matplotlib.pyplot as plt\n",
    "import numpy as np\n",
    "from numpy.linalg import norm\n",
    "import copy\n",
    "\n",
    "import torch\n",
    "import torchvision\n",
    "import torchvision.transforms as transforms\n",
    "\n",
    "import torch.nn as nn\n",
    "import torch.nn.functional as F\n",
    "import torch.optim as optim\n",
    "\n",
    "from model import Symmetric, DeepSets, KNN, KK\n",
    "from sample import generate_data, generate_narrow_data\n",
    "from train import train\n",
    "from evaluate import generalization_error, cross_validate\n",
    "\n",
    "%matplotlib inline"
   ]
  },
  {
   "cell_type": "code",
   "execution_count": 21,
   "metadata": {},
   "outputs": [],
   "source": [
    "def compare_models(N_max, hidden_dim, iterations, batch_size, input_dim, objective, narrow, verbose = True, log_plot = False, scaleup = False):\n",
    "    print(\"currently\", objective.__name__)\n",
    "\n",
    "    c = 1 if not scaleup else 2\n",
    "    print(c)\n",
    "\n",
    "    f1 = Symmetric(input_dim, c * hidden_dim, hidden_dim)\n",
    "    f2 = KNN(input_dim, c * hidden_dim, hidden_dim)\n",
    "    f3 = KK(input_dim, c * hidden_dim, hidden_dim)\n",
    "\n",
    "    f1.__name__ = \"S1\"\n",
    "    f2.__name__ = \"S2\"\n",
    "    f3.__name__ = \"S3\"\n",
    "\n",
    "    models = [f1, f2, f3]\n",
    "    \n",
    "    lambs = [0., 1e-6, 1e-4, 1e-2]\n",
    "    N_list = np.arange(2, N_max + 16)\n",
    "\n",
    "    for model in models:\n",
    "        x, y = generate_data(N_max, batch_size, input_dim, objective, narrow)\n",
    "        cv_models = cross_validate(model, x, y, iterations, lambs, verbose)\n",
    "        \n",
    "        validation_errors = np.zeros_like(lambs)\n",
    "        for i, cv_model in enumerate(cv_models):\n",
    "            validation_errors[i] = generalization_error([N_max], 1000, cv_model, objective, narrow)[0]\n",
    "        \n",
    "        i = np.argmin(validation_errors)\n",
    "        lamb = lambs[i]\n",
    "            \n",
    "        runs = 10\n",
    "        run_errors = np.zeros((runs, len(N_list)))\n",
    "        for i in range(runs):\n",
    "            x, y = generate_data(N_max, batch_size, input_dim, objective, narrow)\n",
    "            model_copy = copy.deepcopy(model)\n",
    "            model_copy.reinit()\n",
    "            train(model_copy, x, y, iterations, lamb)\n",
    "            errors = generalization_error(N_list, 1000, model_copy, objective, narrow)\n",
    "            run_errors[i] = np.array(errors)\n",
    "        \n",
    "        mean_error = np.mean(run_errors, axis = 0)\n",
    "        std_error = np.std(run_errors, axis = 0)\n",
    "        if verbose:\n",
    "            print(\"performance of \", model.__name__, \" on \", objective.__name__)\n",
    "            print(\"lamb =\", lamb)\n",
    "            print(mean_error)\n",
    "            print(std_error)\n",
    "            \n",
    "            \n",
    "        narrow_str = \"Narrow\" if narrow else \"Wide\"\n",
    "        scaleup_str = \"scaleup\" if scaleup else \"\"\n",
    "        save_str = model.__name__ + \"_\" + objective.__name__ + \"_\" + narrow_str + \"_\" + str(input_dim) + scaleup_str\n",
    "            \n",
    "        np.save(save_str + \"_mean\", mean_error)\n",
    "        np.save(save_str + \"_std\", std_error)\n",
    "        \n",
    "        if log_plot:\n",
    "            plt.semilogy(N_list, mean_error, label = model.__name__)\n",
    "        else:\n",
    "            plt.plot(N_list, mean_error, label = model.__name__)\n",
    "        plt.fill_between(N_list, mean_error - std_error, mean_error + std_error, alpha = 0.2)\n",
    "\n",
    "    \n",
    "    plt.legend()\n",
    "    plt.ylim([1e-5, 1e-1]) \n",
    "\n",
    "    plt.xlabel(\"N\")\n",
    "    plt.ylabel(\"Mean Square Error\")\n",
    "    narrow_str = \"Narrow\" if narrow else \"Wide\"\n",
    "    plt.title(narrow_str + \" generalization for \" + objective.__name__)\n",
    "    scaleup_str = \"scaleup\" if scaleup else \"\"\n",
    "#     plt.savefig(\"plots_high_dim/\" + objective.__name__ + \"_\" + narrow_str + \"_\" + str(input_dim) + scaleup_str)\n",
    "    plt.show()\n",
    "    plt.close()"
   ]
  },
  {
   "cell_type": "code",
   "execution_count": 7,
   "metadata": {},
   "outputs": [],
   "source": [
    "#For the rest of the notebook\n",
    "input_dim = 10"
   ]
  },
  {
   "cell_type": "code",
   "execution_count": 8,
   "metadata": {},
   "outputs": [],
   "source": [
    "mean = lambda x: np.mean(norm(x, axis = 2), axis = 1, keepdims = True)\n",
    "\n",
    "median = lambda x: np.median(norm(x, axis = 2), axis = 1, keepdims = True)\n",
    "\n",
    "maximum = lambda x: np.max(norm(x, axis = 2), axis = 1, keepdims = True)\n",
    "\n",
    "lamb = 0.1\n",
    "softmax = lambda x: lamb * np.log(np.mean(np.exp(norm(x, axis = 2) / lamb), axis = 1, keepdims = True))\n",
    "\n",
    "second = lambda x: np.sort(norm(x, axis = 2), axis = 1)[:,-2].reshape(-1,1)"
   ]
  },
  {
   "cell_type": "code",
   "execution_count": 10,
   "metadata": {},
   "outputs": [
    {
     "name": "stdout",
     "output_type": "stream",
     "text": [
      "[-0.4159332   0.         -0.20586732  0.         -0.21240376 -0.25716677\n",
      " -0.2178469   0.         -0.17198043 -0.49157095 -0.17289805 -0.25022185\n",
      " -0.06915313 -0.1160903  -0.23129481]\n"
     ]
    }
   ],
   "source": [
    "### May need to sample several neurons to find one that isn't degenerate on the domain\n",
    "\n",
    "\n",
    "teacher = Symmetric(input_dim, 10, 1)\n",
    "torch.nn.init.uniform_(teacher.phi.fc.weight, a = -0.2, b = 1.0)\n",
    "teacher.eval()\n",
    "\n",
    "def neuron(x):\n",
    "    x = torch.from_numpy(x).float()\n",
    "    y = teacher(x)\n",
    "    return y.data.numpy().reshape(-1, 1)\n",
    "\n",
    "x, y = generate_narrow_data(3, 15, input_dim, neuron)\n",
    "print(y.data.numpy().flatten())"
   ]
  },
  {
   "cell_type": "code",
   "execution_count": 14,
   "metadata": {},
   "outputs": [
    {
     "name": "stdout",
     "output_type": "stream",
     "text": [
      "[-0.03791815  0.         -0.03413719 -0.04336375 -0.03677244 -0.08120133\n",
      " -0.04764245  0.         -0.02808477  0.        ]\n"
     ]
    }
   ],
   "source": [
    "### May need to sample several neurons to find one that isn't degenerate on the domain\n",
    "\n",
    "smooth_teacher = Symmetric(input_dim, 20, 1)\n",
    "torch.nn.init.uniform_(teacher.rho.fc1.weight,a = -0.2, b = 1.0)\n",
    "smooth_teacher.eval()\n",
    "\n",
    "def smooth_neuron(x):\n",
    "    x = torch.from_numpy(x).float()\n",
    "    y = smooth_teacher(x)\n",
    "    return y.data.numpy().reshape(-1, 1)\n",
    "\n",
    "x, y = generate_narrow_data(3, 10, input_dim, smooth_neuron)\n",
    "print(y.data.numpy().flatten())"
   ]
  },
  {
   "cell_type": "code",
   "execution_count": 15,
   "metadata": {},
   "outputs": [],
   "source": [
    "neuron.__name__ = \"neuron\"\n",
    "smooth_neuron.__name__ = \"smooth_neuron\"\n",
    "maximum.__name__ = \"maximum\"\n",
    "softmax.__name__ = \"softmax\"\n",
    "median.__name__ = \"median\"\n",
    "mean.__name__ = \"mean\"\n",
    "second.__name__ = \"second\""
   ]
  },
  {
   "cell_type": "code",
   "execution_count": 16,
   "metadata": {},
   "outputs": [],
   "source": [
    "###############################################"
   ]
  },
  {
   "cell_type": "code",
   "execution_count": 24,
   "metadata": {},
   "outputs": [],
   "source": [
    "#Run to generate plots in Figure 1:\n",
    "\n",
    "N_max = 4\n",
    "hidden_dim = 100\n",
    "\n",
    "iterations = 5000\n",
    "batch_size = 100"
   ]
  },
  {
   "cell_type": "code",
   "execution_count": 25,
   "metadata": {},
   "outputs": [
    {
     "name": "stdout",
     "output_type": "stream",
     "text": [
      "currently neuron\n",
      "1\n",
      "check for overfitting power of S1\n",
      "[1.2964870929718018, 0.0013136945199221373, 3.7343778558351914e-07, 2.7985472570435377e-06, 0.006056393496692181, 4.844321210839553e-08, 9.397038269048918e-13, 2.979319846385664e-10, 0.0001882985234260559, 0.0002121023426298052]\n",
      "2.0534684792416352e-13\n",
      "performance of  S1  on  neuron\n",
      "lamb = 0.0001\n",
      "[0.11596007 0.0772782  0.05791335 0.0476715  0.04041408 0.03510185\n",
      " 0.03092461 0.02824945 0.02512068 0.02350102 0.02288468 0.02059966\n",
      " 0.01986709 0.01826139 0.01788848 0.01676694 0.01619144 0.01539636]\n",
      "[0.01031497 0.00789146 0.00449582 0.00365073 0.00360385 0.00312275\n",
      " 0.00272541 0.00236459 0.00148488 0.00204587 0.00213257 0.00188389\n",
      " 0.0012263  0.00183674 0.00190611 0.00191601 0.00201258 0.00154619]\n",
      "check for overfitting power of S2\n",
      "[1.2052656412124634, 0.006246887147426605, 0.00042937113903462887, 7.961475785123184e-05, 9.862056685960852e-06, 0.0009613479487597942, 0.00016072942526079714, 0.00023561301350127906, 3.4022409067802073e-07, 0.0008009887533262372]\n",
      "6.045057432402245e-08\n",
      "performance of  S2  on  neuron\n",
      "lamb = 0.0\n",
      "[0.18914369 0.11557707 0.0905559  0.07265655 0.06359917 0.05743265\n",
      " 0.05542986 0.05218427 0.05092286 0.0503401  0.04888022 0.0477417\n",
      " 0.04733102 0.04707346 0.04624172 0.04579347 0.04635709 0.0470401 ]\n",
      "[0.04596318 0.02091929 0.01677367 0.01159295 0.00994443 0.00928861\n",
      " 0.00899396 0.01092185 0.01117827 0.01309632 0.01355064 0.01317436\n",
      " 0.01417329 0.01490782 0.01562719 0.015445   0.0162792  0.01737496]\n",
      "check for overfitting power of S3\n",
      "[1.0430328845977783, 0.07275404036045074, 0.028645208105444908, 0.05076009780168533, 0.048121824860572815, 0.03953172639012337, 0.023716671392321587, 0.012649638578295708, 0.012401430867612362, 0.014512045308947563]\n",
      "0.00853598304092884\n",
      "performance of  S3  on  neuron\n",
      "lamb = 0.01\n",
      "[0.18015463 0.12081229 0.08894727 0.07161707 0.05675342 0.05069803\n",
      " 0.04517741 0.03999971 0.03686344 0.03400906 0.03107484 0.02908355\n",
      " 0.02680233 0.02533127 0.02413641 0.02316129 0.02197133 0.0210762 ]\n",
      "[0.01885024 0.01580497 0.01143602 0.00833166 0.0079692  0.00704989\n",
      " 0.00521698 0.00487147 0.00482906 0.00527703 0.00514413 0.00494222\n",
      " 0.00460736 0.00397421 0.00370683 0.00430723 0.00450307 0.00432348]\n"
     ]
    },
    {
     "data": {
      "image/png": "[encoded data removed]",
      "text/plain": [
       "<Figure size 432x288 with 1 Axes>"
      ]
     },
     "metadata": {
      "needs_background": "light"
     },
     "output_type": "display_data"
    }
   ],
   "source": [
    "compare_models(N_max, hidden_dim, iterations, batch_size, input_dim , neuron, narrow = True, log_plot = True)"
   ]
  },
  {
   "cell_type": "code",
   "execution_count": 26,
   "metadata": {},
   "outputs": [
    {
     "name": "stdout",
     "output_type": "stream",
     "text": [
      "currently smooth_neuron\n",
      "1\n",
      "check for overfitting power of S1\n",
      "[0.006475509610027075, 4.434388145568846e-08, 9.664721289937006e-08, 1.5056139091029763e-06, 2.1575829123321455e-07, 4.557130068860715e-06, 5.067016251025791e-11, 1.6796848285594024e-05, 3.6979930229108504e-09, 2.0928315504209483e-12]\n",
      "9.783124831075352e-14\n",
      "performance of  S1  on  smooth_neuron\n",
      "lamb = 1e-06\n",
      "[4.15341006e-04 2.99416798e-04 2.36993721e-04 1.93346018e-04\n",
      " 1.67953668e-04 1.44524800e-04 1.31902566e-04 1.18700162e-04\n",
      " 1.11500396e-04 9.99301294e-05 9.59502540e-05 9.04808709e-05\n",
      " 8.49197691e-05 8.20729903e-05 7.89411286e-05 7.43042106e-05\n",
      " 7.39587427e-05 6.86621126e-05]\n",
      "[4.45474921e-05 3.32817643e-05 2.13561271e-05 2.68891441e-05\n",
      " 1.71627182e-05 1.73914849e-05 1.44722595e-05 1.26916430e-05\n",
      " 1.16870975e-05 1.26993355e-05 1.28453294e-05 1.26657404e-05\n",
      " 1.28299376e-05 1.08574332e-05 1.04341600e-05 1.27243494e-05\n",
      " 1.10560479e-05 1.09193919e-05]\n",
      "check for overfitting power of S2\n",
      "[0.0020454456098377705, 2.3482064079871634e-06, 1.4268164427733154e-08, 4.100234036741313e-06, 8.226955401369196e-07, 1.6741935615627312e-09, 2.3760762454805295e-11, 8.140586032823194e-06, 8.813406116026101e-10, 1.1832237121513212e-13]\n",
      "2.0439899433926344e-14\n",
      "performance of  S2  on  smooth_neuron\n",
      "lamb = 1e-06\n",
      "[0.00057977 0.00039453 0.00030429 0.00024756 0.00021336 0.00018652\n",
      " 0.00017148 0.00015435 0.00014957 0.00013684 0.00012935 0.00012428\n",
      " 0.00012151 0.00011414 0.00010742 0.00010875 0.00010664 0.00010229]\n",
      "[6.30877664e-05 4.74469624e-05 4.14067370e-05 2.63962964e-05\n",
      " 2.46094906e-05 1.76613791e-05 1.91228938e-05 1.70666160e-05\n",
      " 1.63414101e-05 1.67803299e-05 1.49962640e-05 1.76066940e-05\n",
      " 1.51125544e-05 1.78802551e-05 1.59914140e-05 1.84606839e-05\n",
      " 2.03812597e-05 2.14289337e-05]\n",
      "check for overfitting power of S3\n",
      "[0.009812716394662857, 8.473778143525124e-05, 4.1645162127679214e-05, 8.626956696389243e-05, 3.578032919904217e-05, 4.5675915316678584e-05, 6.079714512452483e-05, 1.9725510355783626e-05, 4.973508112016134e-05, 5.906796286581084e-05]\n",
      "1.0131515409739222e-05\n",
      "performance of  S3  on  smooth_neuron\n",
      "lamb = 0.01\n",
      "[0.0011194  0.00076428 0.00059399 0.00050612 0.00043785 0.00040386\n",
      " 0.00038483 0.00035737 0.00033194 0.00031159 0.00030415 0.00029451\n",
      " 0.0002871  0.00028384 0.00028503 0.00027012 0.00027184 0.00026606]\n",
      "[2.49701654e-04 1.19392147e-04 7.18340174e-05 7.64469310e-05\n",
      " 5.37146180e-05 3.78455242e-05 4.76210958e-05 5.03688698e-05\n",
      " 5.28381214e-05 5.85438202e-05 6.07718728e-05 5.90250841e-05\n",
      " 6.60297989e-05 6.72319955e-05 7.15032918e-05 7.74409518e-05\n",
      " 6.85536311e-05 8.48458078e-05]\n"
     ]
    },
    {
     "data": {
      "image/png": "[encoded data removed]",
      "text/plain": [
       "<Figure size 432x288 with 1 Axes>"
      ]
     },
     "metadata": {
      "needs_background": "light"
     },
     "output_type": "display_data"
    }
   ],
   "source": [
    "compare_models(N_max, hidden_dim, iterations, batch_size, input_dim , smooth_neuron, narrow = True, log_plot = True)"
   ]
  },
  {
   "cell_type": "code",
   "execution_count": null,
   "metadata": {},
   "outputs": [],
   "source": [
    "# compare_models(N_max, hidden_dim, iterations, batch_size, input_dim, mean, narrow = False, log_plot = True)\n",
    "# compare_models(N_max, hidden_dim, iterations, batch_size, input_dim , mean, narrow = True, log_plot = True)\n",
    "\n",
    "# compare_models(N_max, hidden_dim, iterations, batch_size, input_dim, median, narrow = False, log_plot = True)\n",
    "# compare_models(N_max, hidden_dim, iterations, batch_size, input_dim , median, narrow = True, log_plot = True)\n",
    "\n",
    "# compare_models(N_max, hidden_dim, iterations, batch_size, input_dim, maximum, narrow = False, log_plot = True)\n",
    "# compare_models(N_max, hidden_dim, iterations, batch_size, input_dim , maximum, narrow = True, log_plot = True)\n",
    "\n",
    "# compare_models(N_max, hidden_dim, iterations, batch_size, input_dim, softmax, narrow = False, log_plot = True)\n",
    "# compare_models(N_max, hidden_dim, iterations, batch_size, input_dim , softmax, narrow = True, log_plot = True)\n",
    "\n",
    "# compare_models(N_max, hidden_dim, iterations, batch_size, input_dim, second, narrow = False, log_plot = True)\n",
    "# compare_models(N_max, hidden_dim, iterations, batch_size, input_dim , second, narrow = True, log_plot = True)\n",
    "\n",
    "# compare_models(N_max, hidden_dim, iterations, batch_size, input_dim, neuron, narrow = False, log_plot = True)\n",
    "# compare_models(N_max, hidden_dim, iterations, batch_size, input_dim , neuron, narrow = True, log_plot = True)\n",
    "\n",
    "# compare_models(N_max, hidden_dim, iterations, batch_size, input_dim, smooth_neuron, narrow = False, log_plot = True)\n",
    "# compare_models(N_max, hidden_dim, iterations, batch_size, input_dim , smooth_neuron, narrow = True, log_plot = True)"
   ]
  },
  {
   "cell_type": "code",
   "execution_count": null,
   "metadata": {},
   "outputs": [],
   "source": [
    "# compare_models(N_max, hidden_dim, iterations, batch_size, input_dim , neuron, narrow = True, log_plot = True, scaleup = True)\n",
    "# compare_models(N_max, hidden_dim, iterations, batch_size, input_dim , smooth_neuron, narrow = True, log_plot = True, scaleup = True)\n",
    "\n",
    "# compare_models(N_max, hidden_dim, iterations, batch_size, input_dim , neuron, narrow = True, log_plot = True, scaleup = False)\n",
    "# compare_models(N_max, hidden_dim, iterations, batch_size, input_dim , smooth_neuron, narrow = True, log_plot = True, scaleup = False)"
   ]
  },
  {
   "cell_type": "code",
   "execution_count": null,
   "metadata": {},
   "outputs": [],
   "source": [
    "###############################################"
   ]
  }
 ],
 "metadata": {
  "kernelspec": {
   "display_name": "Python 3",
   "language": "python",
   "name": "python3"
  },
  "language_info": {
   "codemirror_mode": {
    "name": "ipython",
    "version": 3
   },
   "file_extension": ".py",
   "mimetype": "text/x-python",
   "name": "python",
   "nbconvert_exporter": "python",
   "pygments_lexer": "ipython3",
   "version": "3.7.7"
  }
 },
 "nbformat": 4,
 "nbformat_minor": 2
}
